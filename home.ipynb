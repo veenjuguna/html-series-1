{
 "cells": [
  {
   "cell_type": "code",
   "execution_count": 1,
   "metadata": {},
   "outputs": [],
   "source": [
    "import pandas as pd\n",
    "df = pd.read_csv('bank.csv')"
   ]
  },
  {
   "cell_type": "code",
   "execution_count": 2,
   "metadata": {},
   "outputs": [
    {
     "name": "stderr",
     "output_type": "stream",
     "text": [
      "C:\\Users\\HP\\AppData\\Local\\Temp\\ipykernel_14060\\3715720790.py:2: FutureWarning: A value is trying to be set on a copy of a DataFrame or Series through chained assignment using an inplace method.\n",
      "The behavior will change in pandas 3.0. This inplace method will never work because the intermediate object on which we are setting values always behaves as a copy.\n",
      "\n",
      "For example, when doing 'df[col].method(value, inplace=True)', try using 'df.method({col: value}, inplace=True)' or df[col] = df[col].method(value) instead, to perform the operation inplace on the original object.\n",
      "\n",
      "\n",
      "  df['Self_Employed'].fillna('No', inplace=True)\n"
     ]
    },
    {
     "name": "stdout",
     "output_type": "stream",
     "text": [
      "<class 'pandas.core.frame.DataFrame'>\n",
      "RangeIndex: 614 entries, 0 to 613\n",
      "Data columns (total 10 columns):\n",
      " #   Column             Non-Null Count  Dtype  \n",
      "---  ------             --------------  -----  \n",
      " 0   Loan_ID            614 non-null    object \n",
      " 1   Gender             614 non-null    object \n",
      " 2   Married            614 non-null    object \n",
      " 3   Education          614 non-null    object \n",
      " 4   Self_Employed      614 non-null    object \n",
      " 5   ApplicantIncome    614 non-null    int64  \n",
      " 6   CoapplicantIncome  614 non-null    float64\n",
      " 7   LoanAmount         614 non-null    float64\n",
      " 8   Property_Area      614 non-null    object \n",
      " 9   Loan_Status        614 non-null    object \n",
      "dtypes: float64(2), int64(1), object(7)\n",
      "memory usage: 48.1+ KB\n",
      "None\n",
      "    Loan_ID Gender Married     Education Self_Employed  ApplicantIncome  \\\n",
      "0  LP001002   Male      No      Graduate            No             5849   \n",
      "1  LP001003   Male     Yes      Graduate            No             4583   \n",
      "2  LP001005   Male     Yes      Graduate           Yes             3000   \n",
      "3  LP001006   Male     Yes  Not Graduate            No             2583   \n",
      "4  LP001008   Male      No      Graduate            No             6000   \n",
      "\n",
      "   CoapplicantIncome  LoanAmount Property_Area Loan_Status  \n",
      "0                0.0       128.0         Urban           Y  \n",
      "1             1508.0       128.0         Rural           N  \n",
      "2                0.0        66.0         Urban           Y  \n",
      "3             2358.0       120.0         Urban           Y  \n",
      "4                0.0       141.0         Urban           Y  \n"
     ]
    },
    {
     "name": "stderr",
     "output_type": "stream",
     "text": [
      "C:\\Users\\HP\\AppData\\Local\\Temp\\ipykernel_14060\\3715720790.py:5: FutureWarning: A value is trying to be set on a copy of a DataFrame or Series through chained assignment using an inplace method.\n",
      "The behavior will change in pandas 3.0. This inplace method will never work because the intermediate object on which we are setting values always behaves as a copy.\n",
      "\n",
      "For example, when doing 'df[col].method(value, inplace=True)', try using 'df.method({col: value}, inplace=True)' or df[col] = df[col].method(value) instead, to perform the operation inplace on the original object.\n",
      "\n",
      "\n",
      "  df['LoanAmount'].fillna(df['LoanAmount'].median(), inplace=True)\n"
     ]
    }
   ],
   "source": [
    "# Fill missing values in 'Self_Employed' with 'No'\n",
    "df['Self_Employed'].fillna('No', inplace=True)\n",
    "\n",
    "# Fill missing values in 'LoanAmount' with the median of the column\n",
    "df['LoanAmount'].fillna(df['LoanAmount'].median(), inplace=True)\n",
    "\n",
    "# Drop any duplicate rows\n",
    "df.drop_duplicates(inplace=True)\n",
    "\n",
    "# Verify the changes\n",
    "print(df.info())\n",
    "print(df.head())"
   ]
  }
 ],
 "metadata": {
  "kernelspec": {
   "display_name": "Python 3",
   "language": "python",
   "name": "python3"
  },
  "language_info": {
   "codemirror_mode": {
    "name": "ipython",
    "version": 3
   },
   "file_extension": ".py",
   "mimetype": "text/x-python",
   "name": "python",
   "nbconvert_exporter": "python",
   "pygments_lexer": "ipython3",
   "version": "3.12.4"
  }
 },
 "nbformat": 4,
 "nbformat_minor": 2
}
